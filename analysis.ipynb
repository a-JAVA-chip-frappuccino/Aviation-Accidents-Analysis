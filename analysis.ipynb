{
 "cells": [
  {
   "cell_type": "markdown",
   "metadata": {},
   "source": [
    "## Final Project Submission\n",
    "\n",
    "Please fill out:\n",
    "* Student name: Eleanor Kelman\n",
    "* Student pace: self paced\n",
    "* Scheduled project review date/time: \n",
    "* Instructor name: Morgan Jones\n",
    "* Blog post URL:\n"
   ]
  },
  {
   "cell_type": "code",
   "execution_count": 43,
   "metadata": {},
   "outputs": [],
   "source": [
    "import numpy as np\n",
    "import matplotlib.pyplot as plt\n",
    "import pandas as pd\n",
    "\n",
    "%matplotlib inline"
   ]
  },
  {
   "cell_type": "markdown",
   "metadata": {},
   "source": [
    "### <font color = '#044cb3'>The datasets I will be analyzing comes from a CSV file from the National Transportation Safety Board. It comprises civil aviation accident records from 1962-2023."
   ]
  },
  {
   "cell_type": "code",
   "execution_count": 44,
   "metadata": {},
   "outputs": [],
   "source": [
    "# import dataset\n",
    "\n",
    "df = pd.read_csv('data/Aviation_Data.csv', dtype = {'Event.Id' : str}, low_memory = False)"
   ]
  },
  {
   "cell_type": "code",
   "execution_count": 45,
   "metadata": {},
   "outputs": [
    {
     "data": {
      "text/html": [
       "<div>\n",
       "<style scoped>\n",
       "    .dataframe tbody tr th:only-of-type {\n",
       "        vertical-align: middle;\n",
       "    }\n",
       "\n",
       "    .dataframe tbody tr th {\n",
       "        vertical-align: top;\n",
       "    }\n",
       "\n",
       "    .dataframe thead th {\n",
       "        text-align: right;\n",
       "    }\n",
       "</style>\n",
       "<table border=\"1\" class=\"dataframe\">\n",
       "  <thead>\n",
       "    <tr style=\"text-align: right;\">\n",
       "      <th></th>\n",
       "      <th>Event.Id</th>\n",
       "      <th>Investigation.Type</th>\n",
       "      <th>Accident.Number</th>\n",
       "      <th>Event.Date</th>\n",
       "      <th>Location</th>\n",
       "      <th>Country</th>\n",
       "      <th>Latitude</th>\n",
       "      <th>Longitude</th>\n",
       "      <th>Airport.Code</th>\n",
       "      <th>Airport.Name</th>\n",
       "      <th>...</th>\n",
       "      <th>Purpose.of.flight</th>\n",
       "      <th>Air.carrier</th>\n",
       "      <th>Total.Fatal.Injuries</th>\n",
       "      <th>Total.Serious.Injuries</th>\n",
       "      <th>Total.Minor.Injuries</th>\n",
       "      <th>Total.Uninjured</th>\n",
       "      <th>Weather.Condition</th>\n",
       "      <th>Broad.phase.of.flight</th>\n",
       "      <th>Report.Status</th>\n",
       "      <th>Publication.Date</th>\n",
       "    </tr>\n",
       "  </thead>\n",
       "  <tbody>\n",
       "    <tr>\n",
       "      <th>0</th>\n",
       "      <td>20001218X45444</td>\n",
       "      <td>Accident</td>\n",
       "      <td>SEA87LA080</td>\n",
       "      <td>1948-10-24</td>\n",
       "      <td>MOOSE CREEK, ID</td>\n",
       "      <td>United States</td>\n",
       "      <td>NaN</td>\n",
       "      <td>NaN</td>\n",
       "      <td>NaN</td>\n",
       "      <td>NaN</td>\n",
       "      <td>...</td>\n",
       "      <td>Personal</td>\n",
       "      <td>NaN</td>\n",
       "      <td>2.0</td>\n",
       "      <td>0.0</td>\n",
       "      <td>0.0</td>\n",
       "      <td>0.0</td>\n",
       "      <td>UNK</td>\n",
       "      <td>Cruise</td>\n",
       "      <td>Probable Cause</td>\n",
       "      <td>NaN</td>\n",
       "    </tr>\n",
       "    <tr>\n",
       "      <th>1</th>\n",
       "      <td>20001218X45447</td>\n",
       "      <td>Accident</td>\n",
       "      <td>LAX94LA336</td>\n",
       "      <td>1962-07-19</td>\n",
       "      <td>BRIDGEPORT, CA</td>\n",
       "      <td>United States</td>\n",
       "      <td>NaN</td>\n",
       "      <td>NaN</td>\n",
       "      <td>NaN</td>\n",
       "      <td>NaN</td>\n",
       "      <td>...</td>\n",
       "      <td>Personal</td>\n",
       "      <td>NaN</td>\n",
       "      <td>4.0</td>\n",
       "      <td>0.0</td>\n",
       "      <td>0.0</td>\n",
       "      <td>0.0</td>\n",
       "      <td>UNK</td>\n",
       "      <td>Unknown</td>\n",
       "      <td>Probable Cause</td>\n",
       "      <td>19-09-1996</td>\n",
       "    </tr>\n",
       "    <tr>\n",
       "      <th>2</th>\n",
       "      <td>20061025X01555</td>\n",
       "      <td>Accident</td>\n",
       "      <td>NYC07LA005</td>\n",
       "      <td>1974-08-30</td>\n",
       "      <td>Saltville, VA</td>\n",
       "      <td>United States</td>\n",
       "      <td>36.922223</td>\n",
       "      <td>-81.878056</td>\n",
       "      <td>NaN</td>\n",
       "      <td>NaN</td>\n",
       "      <td>...</td>\n",
       "      <td>Personal</td>\n",
       "      <td>NaN</td>\n",
       "      <td>3.0</td>\n",
       "      <td>NaN</td>\n",
       "      <td>NaN</td>\n",
       "      <td>NaN</td>\n",
       "      <td>IMC</td>\n",
       "      <td>Cruise</td>\n",
       "      <td>Probable Cause</td>\n",
       "      <td>26-02-2007</td>\n",
       "    </tr>\n",
       "  </tbody>\n",
       "</table>\n",
       "<p>3 rows × 31 columns</p>\n",
       "</div>"
      ],
      "text/plain": [
       "         Event.Id Investigation.Type Accident.Number  Event.Date  \\\n",
       "0  20001218X45444           Accident      SEA87LA080  1948-10-24   \n",
       "1  20001218X45447           Accident      LAX94LA336  1962-07-19   \n",
       "2  20061025X01555           Accident      NYC07LA005  1974-08-30   \n",
       "\n",
       "          Location        Country   Latitude   Longitude Airport.Code  \\\n",
       "0  MOOSE CREEK, ID  United States        NaN         NaN          NaN   \n",
       "1   BRIDGEPORT, CA  United States        NaN         NaN          NaN   \n",
       "2    Saltville, VA  United States  36.922223  -81.878056          NaN   \n",
       "\n",
       "  Airport.Name  ... Purpose.of.flight Air.carrier Total.Fatal.Injuries  \\\n",
       "0          NaN  ...          Personal         NaN                  2.0   \n",
       "1          NaN  ...          Personal         NaN                  4.0   \n",
       "2          NaN  ...          Personal         NaN                  3.0   \n",
       "\n",
       "  Total.Serious.Injuries Total.Minor.Injuries Total.Uninjured  \\\n",
       "0                    0.0                  0.0             0.0   \n",
       "1                    0.0                  0.0             0.0   \n",
       "2                    NaN                  NaN             NaN   \n",
       "\n",
       "  Weather.Condition  Broad.phase.of.flight   Report.Status Publication.Date  \n",
       "0               UNK                 Cruise  Probable Cause              NaN  \n",
       "1               UNK                Unknown  Probable Cause       19-09-1996  \n",
       "2               IMC                 Cruise  Probable Cause       26-02-2007  \n",
       "\n",
       "[3 rows x 31 columns]"
      ]
     },
     "execution_count": 45,
     "metadata": {},
     "output_type": "execute_result"
    }
   ],
   "source": [
    "df.head(3)"
   ]
  },
  {
   "cell_type": "code",
   "execution_count": 46,
   "metadata": {},
   "outputs": [
    {
     "data": {
      "text/plain": [
       "Index(['Event.Id', 'Investigation.Type', 'Accident.Number', 'Event.Date',\n",
       "       'Location', 'Country', 'Latitude', 'Longitude', 'Airport.Code',\n",
       "       'Airport.Name', 'Injury.Severity', 'Aircraft.damage',\n",
       "       'Aircraft.Category', 'Registration.Number', 'Make', 'Model',\n",
       "       'Amateur.Built', 'Number.of.Engines', 'Engine.Type', 'FAR.Description',\n",
       "       'Schedule', 'Purpose.of.flight', 'Air.carrier', 'Total.Fatal.Injuries',\n",
       "       'Total.Serious.Injuries', 'Total.Minor.Injuries', 'Total.Uninjured',\n",
       "       'Weather.Condition', 'Broad.phase.of.flight', 'Report.Status',\n",
       "       'Publication.Date'],\n",
       "      dtype='object')"
      ]
     },
     "execution_count": 46,
     "metadata": {},
     "output_type": "execute_result"
    }
   ],
   "source": [
    "df.columns"
   ]
  },
  {
   "cell_type": "markdown",
   "metadata": {},
   "source": [
    "### <font color = '#044cb3'>The columns listed in plain English:\n",
    "\n",
    "- event ID\n",
    "- investigation type\n",
    "- accident number\n",
    "- event date\n",
    "- location\n",
    "- country\n",
    "- latitude\n",
    "- longitude\n",
    "- airport code\n",
    "- airport name\n",
    "- injury severity\n",
    "- aircraft damage\n",
    "- aircraft category\n",
    "- registration number\n",
    "- make\n",
    "- model\n",
    "- amateur-built\n",
    "- number of engines\n",
    "- engine type\n",
    "- FAR description\n",
    "- schedule\n",
    "- purpose of flight\n",
    "- air carrier\n",
    "- total fatal injuries\n",
    "- total serious injuries\n",
    "- total minor injuries\n",
    "- total uninjured\n",
    "- weather condition\n",
    "- broad phase of flight\n",
    "- report status\n",
    "- publication date"
   ]
  },
  {
   "cell_type": "markdown",
   "metadata": {},
   "source": [
    "<br />"
   ]
  },
  {
   "cell_type": "markdown",
   "metadata": {},
   "source": [
    "<br />"
   ]
  },
  {
   "cell_type": "markdown",
   "metadata": {},
   "source": [
    "### <font color = '#044cb3'> To start our analysis, let's examine the relationship between amateur and professional aircraft when accounting for very severe crashes (crashes including fatalities)."
   ]
  },
  {
   "cell_type": "code",
   "execution_count": 47,
   "metadata": {},
   "outputs": [
    {
     "data": {
      "text/plain": [
       "Non-Fatal     67357\n",
       "Fatal(1)       6167\n",
       "Fatal          5262\n",
       "Fatal(2)       3711\n",
       "Incident       2219\n",
       "              ...  \n",
       "Fatal(174)        1\n",
       "Fatal(21)         1\n",
       "Fatal(64)         1\n",
       "Fatal(124)        1\n",
       "Fatal(107)        1\n",
       "Name: Injury.Severity, Length: 109, dtype: int64"
      ]
     },
     "execution_count": 47,
     "metadata": {},
     "output_type": "execute_result"
    }
   ],
   "source": [
    "# check injury severity levels of all crashes\n",
    "\n",
    "df['Injury.Severity'].value_counts()"
   ]
  },
  {
   "cell_type": "markdown",
   "metadata": {},
   "source": [
    "### <font color = '#044cb3'>Looking at the injury severities, there appear to be a lot of names to mean the same thing (for example, the values of *Fatal*, *Fatal(1)*, and *Fatal(228)* all refer to deadly crashes). Let's start by cleaning up this data so that there are only a few specific injury types."
   ]
  },
  {
   "cell_type": "code",
   "execution_count": 48,
   "metadata": {},
   "outputs": [],
   "source": [
    "# clean up list of fatal crashes to retrieve all rows\n",
    "\n",
    "# compile list of rows containing string \"Fatal\"\n",
    "fatal_rows = ['Fatal']\n",
    "\n",
    "unique_values = set(list(df['Injury.Severity']))\n",
    "\n",
    "for value in unique_values:\n",
    "    if type(value) == str:\n",
    "        if value != 'Non-Fatal' and 'Fatal' in value:\n",
    "            fatal_rows.append(value)\n",
    "\n",
    "# apply change to column      \n",
    "df['Injury.Severity'] = df['Injury.Severity'].apply(lambda value: \"Fatal\" if value in fatal_rows else value)"
   ]
  },
  {
   "cell_type": "code",
   "execution_count": 49,
   "metadata": {},
   "outputs": [
    {
     "data": {
      "text/plain": [
       "Non-Fatal      67357\n",
       "Fatal          17826\n",
       "Incident        2219\n",
       "Minor            218\n",
       "Serious          173\n",
       "Unavailable       96\n",
       "Name: Injury.Severity, dtype: int64"
      ]
     },
     "execution_count": 49,
     "metadata": {},
     "output_type": "execute_result"
    }
   ],
   "source": [
    "df['Injury.Severity'].value_counts()"
   ]
  },
  {
   "cell_type": "code",
   "execution_count": 51,
   "metadata": {},
   "outputs": [],
   "source": [
    "# separate amateur and professional builds\n",
    "\n",
    "df_amateur = df[df['Amateur.Built'] == 'No']\n",
    "\n",
    "df_prof = df[df['Amateur.Built'] == 'Yes']"
   ]
  },
  {
   "cell_type": "code",
   "execution_count": 52,
   "metadata": {},
   "outputs": [],
   "source": [
    "# sum amateur and professional builds\n",
    "\n",
    "total_amateur = df_amateur['Event.Id'].count()\n",
    "\n",
    "total_prof = df_prof['Event.Id'].count()"
   ]
  },
  {
   "cell_type": "markdown",
   "metadata": {},
   "source": [
    "### <font color = '#044cb3'>Now let's tally up the amateur fatal incidents in comparison to the professional fatal incidents."
   ]
  },
  {
   "cell_type": "code",
   "execution_count": 53,
   "metadata": {},
   "outputs": [],
   "source": [
    "total_amateur_fatal = df_amateur[df_amateur['Injury.Severity'] == 'Fatal']['Event.Id'].count()\n",
    "\n",
    "total_prof_fatal = df_prof[df_prof['Injury.Severity'] == 'Fatal']['Event.Id'].count()"
   ]
  },
  {
   "cell_type": "code",
   "execution_count": 54,
   "metadata": {},
   "outputs": [
    {
     "name": "stdout",
     "output_type": "stream",
     "text": [
      "The total number of fatal crashes that involve amateur craft is 15436.\n",
      "\n",
      "The total number of fatal crashes that involve professional craft is 2357.\n"
     ]
    }
   ],
   "source": [
    "print(f\"The total number of fatal crashes that involve amateur craft is {total_amateur_fatal}.\")\n",
    "\n",
    "print(\"\")\n",
    "\n",
    "print(f\"The total number of fatal crashes that involve professional craft is {total_prof_fatal}.\")"
   ]
  },
  {
   "cell_type": "code",
   "execution_count": 55,
   "metadata": {},
   "outputs": [
    {
     "data": {
      "image/png": "[encoded data removed]",
      "text/plain": [
       "<Figure size 432x288 with 1 Axes>"
      ]
     },
     "metadata": {
      "needs_background": "light"
     },
     "output_type": "display_data"
    }
   ],
   "source": [
    "fig, ax = plt.subplots()\n",
    "\n",
    "ax.bar(\"Amateur Aircraft\", total_amateur_fatal, color = 'darkblue')\n",
    "\n",
    "ax.bar(\"Professional Aircraft\", total_prof_fatal, color = 'darkblue')\n",
    "\n",
    "ax.set_title(\"Fatal Incidents by Aircraft Build Type\")\n",
    "ax.set_ylabel(\"Total Fatal Incidents\")\n",
    "\n",
    "plt.show()"
   ]
  },
  {
   "cell_type": "markdown",
   "metadata": {},
   "source": [
    "### <font color = '#044cb3'>To conclude, there are far, far more fatal incidents involving amateur aircraft than professional aircraft, likely due to the lack of extreme oversight that goes into professional flights, such as rigorous pilot training and extensive flight and ground crews."
   ]
  },
  {
   "cell_type": "markdown",
   "metadata": {},
   "source": [
    "### <font color = '#044cb3'>In order to have safer, less fatal flights, a recommendation would be to utilize professional crafts and all the additional benefits that come with these, such as ground crews and dual-pilot crews."
   ]
  },
  {
   "cell_type": "markdown",
   "metadata": {},
   "source": [
    "<br />"
   ]
  },
  {
   "cell_type": "markdown",
   "metadata": {},
   "source": [
    "<br />"
   ]
  },
  {
   "cell_type": "markdown",
   "metadata": {},
   "source": [
    "### <font color = '#044cb3'>Another point of consideration could be the number of engines of a plane. In general, single-engine planes are considered tiny (or \"prop\" planes), and larger planes range from regional flights from major airports to enormous commercial jets flying internationally."
   ]
  },
  {
   "cell_type": "code",
   "execution_count": 56,
   "metadata": {},
   "outputs": [
    {
     "data": {
      "text/plain": [
       "1.0    69582\n",
       "2.0    11079\n",
       "0.0     1226\n",
       "3.0      483\n",
       "4.0      431\n",
       "8.0        3\n",
       "6.0        1\n",
       "Name: Number.of.Engines, dtype: int64"
      ]
     },
     "execution_count": 56,
     "metadata": {},
     "output_type": "execute_result"
    }
   ],
   "source": [
    "df['Number.of.Engines'].value_counts()"
   ]
  },
  {
   "cell_type": "markdown",
   "metadata": {},
   "source": [
    "### <font color = '#044cb3'>Looking at the engine counts, we will combine 1- and 0-engine craft into \"small\" planes (as these are better for shorter distances, with the latter even reflecting glider craft that do not gain height substantially). The remaining planes can be considered \"large\"."
   ]
  },
  {
   "cell_type": "code",
   "execution_count": 57,
   "metadata": {},
   "outputs": [],
   "source": [
    "# combine all one- and two-engine planes into \"small planes\" category\n",
    "\n",
    "df['Number.of.Engines'] = df['Number.of.Engines'].apply(lambda value: \"Small\" if (value == 0.0 or value == 1.0) else value)\n",
    "\n",
    "df['Number.of.Engines'] = df['Number.of.Engines'].apply(lambda value: \"Large\" if (value == 2.0 or value == 3.0 or value == 4.0 or value == 6.0 or value == 8.0) else value)\n",
    "\n",
    "# group planes after cleaning data\n",
    "\n",
    "df_small = df[df['Number.of.Engines'] == 'Small']\n",
    "\n",
    "df_large = df[df['Number.of.Engines'] == 'Large']"
   ]
  },
  {
   "cell_type": "code",
   "execution_count": 58,
   "metadata": {},
   "outputs": [
    {
     "data": {
      "text/plain": [
       "Small    70808\n",
       "Large    11997\n",
       "Name: Number.of.Engines, dtype: int64"
      ]
     },
     "execution_count": 58,
     "metadata": {},
     "output_type": "execute_result"
    }
   ],
   "source": [
    "df['Number.of.Engines'].value_counts()"
   ]
  },
  {
   "cell_type": "markdown",
   "metadata": {},
   "source": [
    "### <font color = '#044cb3'>Now let's tally up the small craft fatal incidents in comparison to the large craft fatal incidents."
   ]
  },
  {
   "cell_type": "code",
   "execution_count": 59,
   "metadata": {},
   "outputs": [],
   "source": [
    "total_small_fatal = df_small[df_small['Injury.Severity'] == 'Fatal']['Event.Id'].count()\n",
    "\n",
    "total_large_fatal = df_large[df_large['Injury.Severity'] == 'Fatal']['Event.Id'].count()"
   ]
  },
  {
   "cell_type": "code",
   "execution_count": 60,
   "metadata": {},
   "outputs": [
    {
     "name": "stdout",
     "output_type": "stream",
     "text": [
      "The percentage of fatal small craft crashes is 18.282411463779997.\n",
      "\n",
      "The percentage of fatal large craft crashes is 24.064943896633796.\n"
     ]
    }
   ],
   "source": [
    "percent_small_fatal = total_small_fatal / df_small['Injury.Severity'].count() * 100\n",
    "\n",
    "percent_large_fatal = total_large_fatal / df_large['Injury.Severity'].count() * 100\n",
    "\n",
    "print(f\"The percentage of fatal small craft crashes is {percent_small_fatal}.\")\n",
    "\n",
    "print(\"\")\n",
    "\n",
    "print(f\"The percentage of fatal large craft crashes is {percent_large_fatal}.\")"
   ]
  },
  {
   "cell_type": "code",
   "execution_count": 61,
   "metadata": {},
   "outputs": [
    {
     "data": {
      "image/png": "[encoded data removed]",
      "text/plain": [
       "<Figure size 432x288 with 1 Axes>"
      ]
     },
     "metadata": {
      "needs_background": "light"
     },
     "output_type": "display_data"
    }
   ],
   "source": [
    "fig, ax = plt.subplots()\n",
    "\n",
    "ax.bar(\"Few-Engine Aircraft\", total_small_fatal, color = 'goldenrod')\n",
    "\n",
    "ax.bar(\"Multiple-Engine Aircraft\", total_large_fatal, color = 'goldenrod')\n",
    "\n",
    "ax.set_title(\"Fatal Incidents by Aircraft Engine Number\")\n",
    "ax.set_ylabel(\"Total Fatal Incidents\")\n",
    "\n",
    "plt.show()"
   ]
  },
  {
   "cell_type": "markdown",
   "metadata": {},
   "source": [
    "### <font color = '#044cb3'>A somewhat similar conclusion can be reached in this information as above. The fewer engines in an aircraft, the more fatal crashes it corresponds to. This could be explained by multi-engine craft having more trained flight crew, as concluded previously."
   ]
  },
  {
   "cell_type": "markdown",
   "metadata": {},
   "source": [
    "### <font color = '#044cb3'>A similar recommendation here would be to once again utilize larger aircraft for flight in order to reduce the number of fatal incidents, as well as to prioritize multi-engine craft over glider and prop planes."
   ]
  },
  {
   "cell_type": "markdown",
   "metadata": {},
   "source": [
    "<br />"
   ]
  },
  {
   "cell_type": "markdown",
   "metadata": {},
   "source": [
    "<br />"
   ]
  },
  {
   "cell_type": "markdown",
   "metadata": {},
   "source": [
    "### <font color = '#044cb3'>As a final conclusion, let us examine the number of incidents based on the weather conditions behind flights."
   ]
  },
  {
   "cell_type": "code",
   "execution_count": 62,
   "metadata": {},
   "outputs": [
    {
     "data": {
      "text/plain": [
       "VMC    77303\n",
       "IMC     5976\n",
       "UNK      856\n",
       "Unk      262\n",
       "Name: Weather.Condition, dtype: int64"
      ]
     },
     "execution_count": 62,
     "metadata": {},
     "output_type": "execute_result"
    }
   ],
   "source": [
    "df['Weather.Condition'].value_counts()"
   ]
  },
  {
   "cell_type": "markdown",
   "metadata": {},
   "source": [
    "### <font color = '#044cb3'>To summarize these, VMC means Visual Meterological Conditions, or conditions in which it is deemed safe to fly by sight alone. IMC refers to Instrument Meterological Conditions, in which instruments should be used to assist in flight (visibility is reduced). UNK and Unk both refer to unknown conditions."
   ]
  },
  {
   "cell_type": "markdown",
   "metadata": {},
   "source": [
    "### <font color = '#044cb3'>To start cleaning the data, we should combine the final two conditions, as they refer to the same thing (unknown weather condition data)."
   ]
  },
  {
   "cell_type": "code",
   "execution_count": 63,
   "metadata": {},
   "outputs": [],
   "source": [
    "# apply change to column\n",
    "\n",
    "df['Weather.Condition'] = df['Weather.Condition'].apply(lambda value : 'UNK' if value == 'UNK' or value == 'Unk' else value)"
   ]
  },
  {
   "cell_type": "code",
   "execution_count": 64,
   "metadata": {},
   "outputs": [],
   "source": [
    "# tally number of each weather condition (including unknown)\n",
    "\n",
    "total_vmc = df['Weather.Condition'].value_counts()['VMC']\n",
    "\n",
    "total_imc = df['Weather.Condition'].value_counts()['IMC']\n",
    "\n",
    "total_unk = df['Weather.Condition'].value_counts()['UNK']"
   ]
  },
  {
   "cell_type": "code",
   "execution_count": 65,
   "metadata": {},
   "outputs": [
    {
     "name": "stdout",
     "output_type": "stream",
     "text": [
      "The total number of crashes under VMC is 77303.\n",
      "\n",
      "The total number of crashes under IMC is 5976.\n",
      "\n",
      "The total number of crashes under unknown conditions is 1118.\n"
     ]
    }
   ],
   "source": [
    "print(f\"The total number of crashes under VMC is {total_vmc}.\")\n",
    "\n",
    "print(\"\")\n",
    "\n",
    "print(f\"The total number of crashes under IMC is {total_imc}.\")\n",
    "\n",
    "print(\"\")\n",
    "\n",
    "print(f\"The total number of crashes under unknown conditions is {total_unk}.\")"
   ]
  },
  {
   "cell_type": "code",
   "execution_count": 66,
   "metadata": {},
   "outputs": [
    {
     "data": {
      "image/png": "[encoded data removed]",
      "text/plain": [
       "<Figure size 720x288 with 1 Axes>"
      ]
     },
     "metadata": {
      "needs_background": "light"
     },
     "output_type": "display_data"
    }
   ],
   "source": [
    "fig, ax = plt.subplots()\n",
    "\n",
    "fig.set_figwidth(10)\n",
    "\n",
    "ax.bar(\"Visual Meterological Conditions\", total_vmc, color = 'darkred')\n",
    "\n",
    "ax.bar(\"Instrument Meterological Conditions\", total_imc, color = 'darkred')\n",
    "\n",
    "ax.set_title(\"Incidents by Weather Condition Type\")\n",
    "ax.set_ylabel(\"Total Number of Crashes\")\n",
    "\n",
    "plt.show()"
   ]
  },
  {
   "cell_type": "markdown",
   "metadata": {},
   "source": [
    "### <font color = '#044cb3'>From this information, it becomes immediately apparent that VMC conditions allow for far, far more crashes than IMC conditions (and unknown conditions make up a miniscule percentage of the data). Although this might not make immediate sense, as VMC conditions would be preferable, it could be ascertained that such conditions cause a \"false sense of security\" or perhaps even a lack of reliance on tools to assist in flying."
   ]
  },
  {
   "cell_type": "markdown",
   "metadata": {},
   "source": [
    "### <font color = '#044cb3'>Therefore, a recommendation to better flying conditions would be to fly in IMC conditions more often than in VMC conditions, or otherwise to utilize instruments when flying, as these can be a safety measure."
   ]
  },
  {
   "cell_type": "markdown",
   "metadata": {},
   "source": [
    "<br />"
   ]
  },
  {
   "cell_type": "markdown",
   "metadata": {},
   "source": [
    "<br />"
   ]
  },
  {
   "cell_type": "markdown",
   "metadata": {},
   "source": [
    "### <font color = '#044cb3'>In short, to reduce the number of incidents, and the probability that those incidents are fatal, it is recommended to utilize large, professional aircraft and to take full advantage of the robust instrumentation that comes with such craft."
   ]
  }
 ],
 "metadata": {
  "kernelspec": {
   "display_name": "Python (learn-env)",
   "language": "python",
   "name": "learn-env"
  },
  "language_info": {
   "codemirror_mode": {
    "name": "ipython",
    "version": 3
   },
   "file_extension": ".py",
   "mimetype": "text/x-python",
   "name": "python",
   "nbconvert_exporter": "python",
   "pygments_lexer": "ipython3",
   "version": "3.8.5"
  }
 },
 "nbformat": 4,
 "nbformat_minor": 4
}
