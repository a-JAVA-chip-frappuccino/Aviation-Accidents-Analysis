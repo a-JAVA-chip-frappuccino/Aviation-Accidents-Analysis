{
 "cells": [
  {
   "cell_type": "markdown",
   "metadata": {},
   "source": [
    "## Final Project Submission\n",
    "\n",
    "Please fill out:\n",
    "* Student name: Eleanor Kelman\n",
    "* Student pace: self paced\n",
    "* Scheduled project review date/time: \n",
    "* Instructor name: Morgan Jones\n",
    "* Blog post URL:\n"
   ]
  },
  {
   "cell_type": "code",
   "execution_count": 1,
   "metadata": {},
   "outputs": [],
   "source": [
    "import numpy as np\n",
    "import matplotlib.pyplot as plt\n",
    "import pandas as pd"
   ]
  },
  {
   "cell_type": "markdown",
   "metadata": {},
   "source": [
    "### <font color = '#044cb3'>The datasets I will be analyzing comes from a CSV file from the National Transportation Safety Board. It comprises civil aviation accident records from 1962-2023."
   ]
  },
  {
   "cell_type": "code",
   "execution_count": 119,
   "metadata": {},
   "outputs": [
    {
     "name": "stderr",
     "output_type": "stream",
     "text": [
      "/Users/eleanorkelman/anaconda3/envs/learn-env/lib/python3.8/site-packages/IPython/core/interactiveshell.py:3145: DtypeWarning: Columns (6,7,28) have mixed types.Specify dtype option on import or set low_memory=False.\n",
      "  has_raised = await self.run_ast_nodes(code_ast.body, cell_name,\n"
     ]
    },
    {
     "data": {
      "text/html": [
       "<div>\n",
       "<style scoped>\n",
       "    .dataframe tbody tr th:only-of-type {\n",
       "        vertical-align: middle;\n",
       "    }\n",
       "\n",
       "    .dataframe tbody tr th {\n",
       "        vertical-align: top;\n",
       "    }\n",
       "\n",
       "    .dataframe thead th {\n",
       "        text-align: right;\n",
       "    }\n",
       "</style>\n",
       "<table border=\"1\" class=\"dataframe\">\n",
       "  <thead>\n",
       "    <tr style=\"text-align: right;\">\n",
       "      <th></th>\n",
       "      <th>Event.Id</th>\n",
       "      <th>Investigation.Type</th>\n",
       "      <th>Accident.Number</th>\n",
       "      <th>Event.Date</th>\n",
       "      <th>Location</th>\n",
       "      <th>Country</th>\n",
       "      <th>Latitude</th>\n",
       "      <th>Longitude</th>\n",
       "      <th>Airport.Code</th>\n",
       "      <th>Airport.Name</th>\n",
       "      <th>...</th>\n",
       "      <th>Purpose.of.flight</th>\n",
       "      <th>Air.carrier</th>\n",
       "      <th>Total.Fatal.Injuries</th>\n",
       "      <th>Total.Serious.Injuries</th>\n",
       "      <th>Total.Minor.Injuries</th>\n",
       "      <th>Total.Uninjured</th>\n",
       "      <th>Weather.Condition</th>\n",
       "      <th>Broad.phase.of.flight</th>\n",
       "      <th>Report.Status</th>\n",
       "      <th>Publication.Date</th>\n",
       "    </tr>\n",
       "  </thead>\n",
       "  <tbody>\n",
       "    <tr>\n",
       "      <th>0</th>\n",
       "      <td>20001218X45444</td>\n",
       "      <td>Accident</td>\n",
       "      <td>SEA87LA080</td>\n",
       "      <td>1948-10-24</td>\n",
       "      <td>MOOSE CREEK, ID</td>\n",
       "      <td>United States</td>\n",
       "      <td>NaN</td>\n",
       "      <td>NaN</td>\n",
       "      <td>NaN</td>\n",
       "      <td>NaN</td>\n",
       "      <td>...</td>\n",
       "      <td>Personal</td>\n",
       "      <td>NaN</td>\n",
       "      <td>2.0</td>\n",
       "      <td>0.0</td>\n",
       "      <td>0.0</td>\n",
       "      <td>0.0</td>\n",
       "      <td>UNK</td>\n",
       "      <td>Cruise</td>\n",
       "      <td>Probable Cause</td>\n",
       "      <td>NaN</td>\n",
       "    </tr>\n",
       "    <tr>\n",
       "      <th>1</th>\n",
       "      <td>20001218X45447</td>\n",
       "      <td>Accident</td>\n",
       "      <td>LAX94LA336</td>\n",
       "      <td>1962-07-19</td>\n",
       "      <td>BRIDGEPORT, CA</td>\n",
       "      <td>United States</td>\n",
       "      <td>NaN</td>\n",
       "      <td>NaN</td>\n",
       "      <td>NaN</td>\n",
       "      <td>NaN</td>\n",
       "      <td>...</td>\n",
       "      <td>Personal</td>\n",
       "      <td>NaN</td>\n",
       "      <td>4.0</td>\n",
       "      <td>0.0</td>\n",
       "      <td>0.0</td>\n",
       "      <td>0.0</td>\n",
       "      <td>UNK</td>\n",
       "      <td>Unknown</td>\n",
       "      <td>Probable Cause</td>\n",
       "      <td>19-09-1996</td>\n",
       "    </tr>\n",
       "    <tr>\n",
       "      <th>2</th>\n",
       "      <td>20061025X01555</td>\n",
       "      <td>Accident</td>\n",
       "      <td>NYC07LA005</td>\n",
       "      <td>1974-08-30</td>\n",
       "      <td>Saltville, VA</td>\n",
       "      <td>United States</td>\n",
       "      <td>36.9222</td>\n",
       "      <td>-81.8781</td>\n",
       "      <td>NaN</td>\n",
       "      <td>NaN</td>\n",
       "      <td>...</td>\n",
       "      <td>Personal</td>\n",
       "      <td>NaN</td>\n",
       "      <td>3.0</td>\n",
       "      <td>NaN</td>\n",
       "      <td>NaN</td>\n",
       "      <td>NaN</td>\n",
       "      <td>IMC</td>\n",
       "      <td>Cruise</td>\n",
       "      <td>Probable Cause</td>\n",
       "      <td>26-02-2007</td>\n",
       "    </tr>\n",
       "  </tbody>\n",
       "</table>\n",
       "<p>3 rows × 31 columns</p>\n",
       "</div>"
      ],
      "text/plain": [
       "         Event.Id Investigation.Type Accident.Number  Event.Date  \\\n",
       "0  20001218X45444           Accident      SEA87LA080  1948-10-24   \n",
       "1  20001218X45447           Accident      LAX94LA336  1962-07-19   \n",
       "2  20061025X01555           Accident      NYC07LA005  1974-08-30   \n",
       "\n",
       "          Location        Country Latitude Longitude Airport.Code  \\\n",
       "0  MOOSE CREEK, ID  United States      NaN       NaN          NaN   \n",
       "1   BRIDGEPORT, CA  United States      NaN       NaN          NaN   \n",
       "2    Saltville, VA  United States  36.9222  -81.8781          NaN   \n",
       "\n",
       "  Airport.Name  ... Purpose.of.flight Air.carrier Total.Fatal.Injuries  \\\n",
       "0          NaN  ...          Personal         NaN                  2.0   \n",
       "1          NaN  ...          Personal         NaN                  4.0   \n",
       "2          NaN  ...          Personal         NaN                  3.0   \n",
       "\n",
       "  Total.Serious.Injuries Total.Minor.Injuries Total.Uninjured  \\\n",
       "0                    0.0                  0.0             0.0   \n",
       "1                    0.0                  0.0             0.0   \n",
       "2                    NaN                  NaN             NaN   \n",
       "\n",
       "  Weather.Condition  Broad.phase.of.flight   Report.Status Publication.Date  \n",
       "0               UNK                 Cruise  Probable Cause              NaN  \n",
       "1               UNK                Unknown  Probable Cause       19-09-1996  \n",
       "2               IMC                 Cruise  Probable Cause       26-02-2007  \n",
       "\n",
       "[3 rows x 31 columns]"
      ]
     },
     "execution_count": 119,
     "metadata": {},
     "output_type": "execute_result"
    }
   ],
   "source": [
    "# import dataset\n",
    "\n",
    "df = pd.read_csv('data/Aviation_Data.csv')\n",
    "\n",
    "df.head(3)"
   ]
  },
  {
   "cell_type": "code",
   "execution_count": 3,
   "metadata": {},
   "outputs": [
    {
     "data": {
      "text/plain": [
       "Index(['Event.Id', 'Investigation.Type', 'Accident.Number', 'Event.Date',\n",
       "       'Location', 'Country', 'Latitude', 'Longitude', 'Airport.Code',\n",
       "       'Airport.Name', 'Injury.Severity', 'Aircraft.damage',\n",
       "       'Aircraft.Category', 'Registration.Number', 'Make', 'Model',\n",
       "       'Amateur.Built', 'Number.of.Engines', 'Engine.Type', 'FAR.Description',\n",
       "       'Schedule', 'Purpose.of.flight', 'Air.carrier', 'Total.Fatal.Injuries',\n",
       "       'Total.Serious.Injuries', 'Total.Minor.Injuries', 'Total.Uninjured',\n",
       "       'Weather.Condition', 'Broad.phase.of.flight', 'Report.Status',\n",
       "       'Publication.Date'],\n",
       "      dtype='object')"
      ]
     },
     "execution_count": 3,
     "metadata": {},
     "output_type": "execute_result"
    }
   ],
   "source": [
    "# see list of columns\n",
    "\n",
    "df.columns"
   ]
  },
  {
   "cell_type": "markdown",
   "metadata": {},
   "source": [
    "### <font color = '#044cb3'>I've listed below all the columns from the dataframe in plain English, so that we may further hone in on the information of most interest to us.\n",
    "\n",
    "- event ID\n",
    "- investigation type\n",
    "- accident number\n",
    "- event date\n",
    "- location\n",
    "- country\n",
    "- latitude\n",
    "- longitude\n",
    "- airport code\n",
    "- airport name\n",
    "- injury severity\n",
    "- aircraft damage\n",
    "- aircraft category\n",
    "- registration number\n",
    "- make\n",
    "- model\n",
    "- amateur-built\n",
    "- number of engines\n",
    "- engine type\n",
    "- FAR description\n",
    "- schedule\n",
    "- purpose of flight\n",
    "- air carrier\n",
    "- total fatal injuries\n",
    "- total serious injuries\n",
    "- total minor injuries\n",
    "- total uninjured\n",
    "- weather condition\n",
    "- broad phase of flight\n",
    "- report status\n",
    "- publication date"
   ]
  },
  {
   "cell_type": "markdown",
   "metadata": {},
   "source": [
    "### <font color = '#044cb3'>Let's randomly select some rows to look at them more closely and see if there is any information that immediately jumps out to us as pertinent."
   ]
  },
  {
   "cell_type": "code",
   "execution_count": 4,
   "metadata": {},
   "outputs": [],
   "source": [
    "# for real purposes, you would want to randomize these yourself; I used rng to grab 5 rows\n",
    "# to examine in-depth\n",
    "\n",
    "sample_row_1 = df.iloc[40359]\n",
    "sample_row_2 = df.iloc[89396]\n",
    "sample_row_3 = df.iloc[24170]\n",
    "sample_row_4 = df.iloc[81282]\n",
    "sample_row_5 = df.iloc[10918]"
   ]
  },
  {
   "cell_type": "code",
   "execution_count": 5,
   "metadata": {},
   "outputs": [
    {
     "data": {
      "text/plain": [
       "Event.Id                  20001208X06501\n",
       "Investigation.Type              Accident\n",
       "Accident.Number               FTW96LA348\n",
       "Event.Date                    1996-08-16\n",
       "Location                    VAN HORN, TX\n",
       "Country                    United States\n",
       "Latitude                             NaN\n",
       "Longitude                            NaN\n",
       "Airport.Code                         NaN\n",
       "Airport.Name                         NaN\n",
       "Injury.Severity                Non-Fatal\n",
       "Aircraft.damage              Substantial\n",
       "Aircraft.Category                    NaN\n",
       "Registration.Number                XBINF\n",
       "Make                       Vans Aircraft\n",
       "Model                               RV-4\n",
       "Amateur.Built                        Yes\n",
       "Number.of.Engines                      1\n",
       "Engine.Type                Reciprocating\n",
       "FAR.Description                      NaN\n",
       "Schedule                             NaN\n",
       "Purpose.of.flight               Personal\n",
       "Air.carrier                          NaN\n",
       "Total.Fatal.Injuries                   0\n",
       "Total.Serious.Injuries                 0\n",
       "Total.Minor.Injuries                   1\n",
       "Total.Uninjured                        0\n",
       "Weather.Condition                    VMC\n",
       "Broad.phase.of.flight             Cruise\n",
       "Report.Status             Probable Cause\n",
       "Publication.Date              29-04-1997\n",
       "Name: 40359, dtype: object"
      ]
     },
     "execution_count": 5,
     "metadata": {},
     "output_type": "execute_result"
    }
   ],
   "source": [
    "sample_row_1"
   ]
  },
  {
   "cell_type": "markdown",
   "metadata": {},
   "source": [
    "### <font color = '#044cb3'>We note that *sample_row_1* is of a tiny (1 engine, 1 passenger) non-fatal crash (1 minor injury) with substantial aircraft damage out of an unrecorded, or no-name, airport. Furthermore, the weather condition is listed as VMC (visual meteorological conditions), meaning the flight was likely not visually strenuous. Furthermore, this is an amateur-built aircraft model and the crash report lists probable cause."
   ]
  },
  {
   "cell_type": "code",
   "execution_count": 6,
   "metadata": {},
   "outputs": [
    {
     "data": {
      "text/plain": [
       "Event.Id                                       20220622105301\n",
       "Investigation.Type                                   Accident\n",
       "Accident.Number                                    ERA22LA277\n",
       "Event.Date                                         2022-06-20\n",
       "Location                                       Wilmington, NC\n",
       "Country                                         United States\n",
       "Latitude                                              334611N\n",
       "Longitude                                            0772920W\n",
       "Airport.Code                                              NaN\n",
       "Airport.Name                                              NaN\n",
       "Injury.Severity                                       Serious\n",
       "Aircraft.damage                                   Substantial\n",
       "Aircraft.Category                                    Airplane\n",
       "Registration.Number                                    N337AX\n",
       "Make                                      Hawker Aircraft Ltd\n",
       "Model                                           Hawker Hunter\n",
       "Amateur.Built                                              No\n",
       "Number.of.Engines                                           1\n",
       "Engine.Type                                               NaN\n",
       "FAR.Description                                          PUBU\n",
       "Schedule                                                  NaN\n",
       "Purpose.of.flight                             Public Aircraft\n",
       "Air.carrier               Airborne Tactical Advantage Company\n",
       "Total.Fatal.Injuries                                        0\n",
       "Total.Serious.Injuries                                      0\n",
       "Total.Minor.Injuries                                        1\n",
       "Total.Uninjured                                             0\n",
       "Weather.Condition                                         VMC\n",
       "Broad.phase.of.flight                                     NaN\n",
       "Report.Status                                             NaN\n",
       "Publication.Date                                   28-06-2022\n",
       "Name: 89396, dtype: object"
      ]
     },
     "execution_count": 6,
     "metadata": {},
     "output_type": "execute_result"
    }
   ],
   "source": [
    "sample_row_2"
   ]
  },
  {
   "cell_type": "markdown",
   "metadata": {},
   "source": [
    "### <font color = '#044cb3'>We note that *sample_row_2* is of a tiny (1 engine, 1 passenger) serious crash (1 minor injury) with substantial aircraft damage out of an unrecorded, or no-name, airport. Furthermore, the weather condition is listed as VMC (visual meteorological conditions), meaning the flight was likely not visually strenuous. Furthermore, this is not an amateur-built aircraft model and there is no report status."
   ]
  },
  {
   "cell_type": "code",
   "execution_count": 7,
   "metadata": {},
   "outputs": [
    {
     "data": {
      "text/plain": [
       "Event.Id                    20001213X29391\n",
       "Investigation.Type                Accident\n",
       "Accident.Number                LAX89DUM04B\n",
       "Event.Date                      1989-09-30\n",
       "Location                      EL CAJON, CA\n",
       "Country                      United States\n",
       "Latitude                               NaN\n",
       "Longitude                              NaN\n",
       "Airport.Code                           SEE\n",
       "Airport.Name               GILLESPIE FIELD\n",
       "Injury.Severity                  Non-Fatal\n",
       "Aircraft.damage                Substantial\n",
       "Aircraft.Category                      NaN\n",
       "Registration.Number                 N711MH\n",
       "Make                      Stolp Starduster\n",
       "Model                                SA300\n",
       "Amateur.Built                          Yes\n",
       "Number.of.Engines                        1\n",
       "Engine.Type                  Reciprocating\n",
       "FAR.Description                        NaN\n",
       "Schedule                               NaN\n",
       "Purpose.of.flight                 Personal\n",
       "Air.carrier                            NaN\n",
       "Total.Fatal.Injuries                     0\n",
       "Total.Serious.Injuries                   0\n",
       "Total.Minor.Injuries                     0\n",
       "Total.Uninjured                          3\n",
       "Weather.Condition                      VMC\n",
       "Broad.phase.of.flight             Standing\n",
       "Report.Status               Probable Cause\n",
       "Publication.Date                22-07-1992\n",
       "Name: 24170, dtype: object"
      ]
     },
     "execution_count": 7,
     "metadata": {},
     "output_type": "execute_result"
    }
   ],
   "source": [
    "sample_row_3"
   ]
  },
  {
   "cell_type": "markdown",
   "metadata": {},
   "source": [
    "### <font color = '#044cb3'>We note that *sample_row_3* is of a small (1 engine, 3 passenger) non-fatal crash (3 uninjured) with substantial aircraft damage out of Gillespie Field airport (a small airport in California [https://www.sandiegocounty.gov/content/sdc/dpw/airports/gillespie.html]). Furthermore, the weather condition is listed as VMC (visual meteorological conditions), meaning the flight was likely not visually strenuous. Furthermore, this is an amateur-built aircraft model and the crash report lists probable cause."
   ]
  },
  {
   "cell_type": "code",
   "execution_count": 8,
   "metadata": {},
   "outputs": [
    {
     "data": {
      "text/plain": [
       "Event.Id                                                     20170924X10820\n",
       "Investigation.Type                                                 Accident\n",
       "Accident.Number                                                  ERA17LA334\n",
       "Event.Date                                                       2017-09-24\n",
       "Location                                                     Darlington, SC\n",
       "Country                                                       United States\n",
       "Latitude                                                            034253N\n",
       "Longitude                                                          0795553W\n",
       "Airport.Code                                                            PVT\n",
       "Airport.Name                                                           NONE\n",
       "Injury.Severity                                                   Non-Fatal\n",
       "Aircraft.damage                                                 Substantial\n",
       "Aircraft.Category                                                  Airplane\n",
       "Registration.Number                                                   N65SW\n",
       "Make                                                        MCMILLAN JOEL L\n",
       "Model                                                            AVID SW 65\n",
       "Amateur.Built                                                           Yes\n",
       "Number.of.Engines                                                         1\n",
       "Engine.Type                                                   Reciprocating\n",
       "FAR.Description                                                         091\n",
       "Schedule                                                                NaN\n",
       "Purpose.of.flight                                                  Personal\n",
       "Air.carrier                                                             NaN\n",
       "Total.Fatal.Injuries                                                      0\n",
       "Total.Serious.Injuries                                                    0\n",
       "Total.Minor.Injuries                                                      1\n",
       "Total.Uninjured                                                           0\n",
       "Weather.Condition                                                       VMC\n",
       "Broad.phase.of.flight                                                   NaN\n",
       "Report.Status             A total loss of engine power due to fuel starv...\n",
       "Publication.Date                                                 25-09-2020\n",
       "Name: 81282, dtype: object"
      ]
     },
     "execution_count": 8,
     "metadata": {},
     "output_type": "execute_result"
    }
   ],
   "source": [
    "sample_row_4"
   ]
  },
  {
   "cell_type": "markdown",
   "metadata": {},
   "source": [
    "### <font color = '#044cb3'>We note that *sample_row_4* is of a tiny (1 engine, 1 passenger) non-fatal crash (1 minor injury) with substantial aircraft damage out of a privately-owned airport. Furthermore, the weather condition is listed as VMC (visual meteorological conditions), meaning the flight was likely not visually strenuous. Furthermore, this is an amateur-built aircraft model and the crash was due to fuel starvation from a clogged fuel filter."
   ]
  },
  {
   "cell_type": "code",
   "execution_count": 9,
   "metadata": {},
   "outputs": [
    {
     "data": {
      "text/plain": [
       "Event.Id                   20001214X35661\n",
       "Investigation.Type               Accident\n",
       "Accident.Number                CHI85LA116\n",
       "Event.Date                     1985-02-20\n",
       "Location                      PONTIAC, MI\n",
       "Country                     United States\n",
       "Latitude                              NaN\n",
       "Longitude                             NaN\n",
       "Airport.Code                          PTK\n",
       "Airport.Name              OAKLAND-PONTIAC\n",
       "Injury.Severity                 Non-Fatal\n",
       "Aircraft.damage               Substantial\n",
       "Aircraft.Category                     NaN\n",
       "Registration.Number                N6450K\n",
       "Make                               Cessna\n",
       "Model                                 172\n",
       "Amateur.Built                          No\n",
       "Number.of.Engines                       1\n",
       "Engine.Type                 Reciprocating\n",
       "FAR.Description                       NaN\n",
       "Schedule                              NaN\n",
       "Purpose.of.flight           Instructional\n",
       "Air.carrier                           NaN\n",
       "Total.Fatal.Injuries                    0\n",
       "Total.Serious.Injuries                  0\n",
       "Total.Minor.Injuries                    0\n",
       "Total.Uninjured                         1\n",
       "Weather.Condition                     VMC\n",
       "Broad.phase.of.flight             Landing\n",
       "Report.Status              Probable Cause\n",
       "Publication.Date                      NaN\n",
       "Name: 10918, dtype: object"
      ]
     },
     "execution_count": 9,
     "metadata": {},
     "output_type": "execute_result"
    }
   ],
   "source": [
    "sample_row_5"
   ]
  },
  {
   "cell_type": "markdown",
   "metadata": {},
   "source": [
    "### <font color = '#044cb3'>We note that *sample_row_5* is of a tiny (1 engine, 1 passenger) non-fatal crash (1 uninjured) with substantial aircraft damage out of Oakland County International Airport (a mid-sized airport in Michigan [https://www.oakgov.com/community/airports/oakland-county-international-airport]). Furthermore, the weather condition is listed as VMC (visual meteorological conditions), meaning the flight was likely not visually strenuous. Furthermore, this is not an amateur-built aircraft model and the crash report lists probable cause."
   ]
  },
  {
   "cell_type": "markdown",
   "metadata": {},
   "source": [
    "### <font color = '#044cb3'> Entirely based on the samples (which are only a few out of many, many rows), we can narrow down our conclusions to certain rows. To start, let's see if there exists a large discrepancy between the number of amateur and professional crashed aircrafts."
   ]
  },
  {
   "cell_type": "code",
   "execution_count": 35,
   "metadata": {},
   "outputs": [
    {
     "data": {
      "text/plain": [
       "True"
      ]
     },
     "execution_count": 35,
     "metadata": {},
     "output_type": "execute_result"
    }
   ],
   "source": [
    "# aggregate data by Amateur.Built column\n",
    "\n",
    "total_builds = df['Amateur.Built'].value_counts()\n",
    "\n",
    "# check if there are any non-Boolean columns to ensure comprehensive agreggation\n",
    "\n",
    "sum(total_builds) == df['Amateur.Built'].count()"
   ]
  },
  {
   "cell_type": "code",
   "execution_count": 38,
   "metadata": {},
   "outputs": [],
   "source": [
    "# break up data into amateur and professional builds\n",
    "\n",
    "builds_amateur = total_builds['Yes']\n",
    "\n",
    "builds_prof = total_builds['No']"
   ]
  },
  {
   "cell_type": "code",
   "execution_count": 39,
   "metadata": {},
   "outputs": [
    {
     "name": "stdout",
     "output_type": "stream",
     "text": [
      "The percentage of amateur builds is 9.545316318830459%.\n",
      "The percentage of professional builds is 90.45468368116954%.\n"
     ]
    }
   ],
   "source": [
    "# calculate percentage of amateur and professional builds\n",
    "\n",
    "percent_amateur = (builds_amateur / sum(total_builds)) * 100\n",
    "\n",
    "percent_prof = (builds_prof / sum(total_builds)) * 100\n",
    "\n",
    "print(f\"The percentage of amateur builds is {percent_amateur}%.\")\n",
    "\n",
    "print(f\"The percentage of professional builds is {percent_prof}%.\")"
   ]
  },
  {
   "cell_type": "markdown",
   "metadata": {},
   "source": [
    "### <font color = '#044cb3'>There are far more professional builds listed, but we cannot necessarily glean information from this. However, we could hypothesize that a professional plane, by nature of flying higher, at faster speeds, and with more engines, could lead to a more severe crash. Let's break down these builds into the severity of the crashes."
   ]
  },
  {
   "cell_type": "code",
   "execution_count": 42,
   "metadata": {},
   "outputs": [
    {
     "data": {
      "text/plain": [
       "Index(['Event.Id', 'Investigation.Type', 'Accident.Number', 'Event.Date',\n",
       "       'Location', 'Country', 'Latitude', 'Longitude', 'Airport.Code',\n",
       "       'Airport.Name', 'Injury.Severity', 'Aircraft.damage',\n",
       "       'Aircraft.Category', 'Registration.Number', 'Make', 'Model',\n",
       "       'Amateur.Built', 'Number.of.Engines', 'Engine.Type', 'FAR.Description',\n",
       "       'Schedule', 'Purpose.of.flight', 'Air.carrier', 'Total.Fatal.Injuries',\n",
       "       'Total.Serious.Injuries', 'Total.Minor.Injuries', 'Total.Uninjured',\n",
       "       'Weather.Condition', 'Broad.phase.of.flight', 'Report.Status',\n",
       "       'Publication.Date'],\n",
       "      dtype='object')"
      ]
     },
     "execution_count": 42,
     "metadata": {},
     "output_type": "execute_result"
    }
   ],
   "source": [
    "df.columns"
   ]
  },
  {
   "cell_type": "code",
   "execution_count": 77,
   "metadata": {
    "scrolled": true
   },
   "outputs": [
    {
     "data": {
      "text/plain": [
       "Non-Fatal     67357\n",
       "Fatal(1)       6167\n",
       "Fatal          5262\n",
       "Fatal(2)       3711\n",
       "Incident       2219\n",
       "              ...  \n",
       "Fatal(80)         1\n",
       "Fatal(31)         1\n",
       "Fatal(132)        1\n",
       "Fatal(228)        1\n",
       "Fatal(144)        1\n",
       "Name: Injury.Severity, Length: 109, dtype: int64"
      ]
     },
     "execution_count": 77,
     "metadata": {},
     "output_type": "execute_result"
    }
   ],
   "source": [
    "df['Injury.Severity'].value_counts()"
   ]
  },
  {
   "cell_type": "markdown",
   "metadata": {},
   "source": [
    "### <font color = '#044cb3'>Looking at the injury severities, there appear to be a lot of names to mean the same thing (for example, the values of *Fatal*, *Fatal(1)*, and *Fatal(228)* all refer to deadly crashes). Let's start by cleaning up this data so that there are only a few specific injury types."
   ]
  },
  {
   "cell_type": "code",
   "execution_count": 120,
   "metadata": {},
   "outputs": [],
   "source": [
    "# clean up list of fatal crashes to retrieve all rows\n",
    "\n",
    "fatal_rows = ['Fatal']\n",
    "\n",
    "unique_values = set(list(df['Injury.Severity']))\n",
    "\n",
    "for value in unique_values:\n",
    "    if type(value) == str:\n",
    "        if value != 'Non-Fatal' and 'Fatal' in value:\n",
    "            fatal_rows.append(value)"
   ]
  },
  {
   "cell_type": "code",
   "execution_count": 132,
   "metadata": {},
   "outputs": [],
   "source": [
    "df['Injury.Severity'] = df['Injury.Severity'].apply(lambda value: \"Fatal\" if value in fatal_rows else value)"
   ]
  },
  {
   "cell_type": "code",
   "execution_count": 137,
   "metadata": {},
   "outputs": [
    {
     "data": {
      "text/plain": [
       "Non-Fatal      67357\n",
       "Fatal          17826\n",
       "Incident        2219\n",
       "Minor            218\n",
       "Serious          173\n",
       "Unavailable       96\n",
       "Name: Injury.Severity, dtype: int64"
      ]
     },
     "execution_count": 137,
     "metadata": {},
     "output_type": "execute_result"
    }
   ],
   "source": [
    "df['Injury.Severity'].value_counts()"
   ]
  },
  {
   "cell_type": "markdown",
   "metadata": {},
   "source": [
    "### <font color = '#044cb3'>Now let's tally up the fatal/serious injuries in comparison to the minor/non-fatal incidents. Although there are two other types, incident and unavailable, there are very few rows of the latter and the former is not as clearly-defined as a type of severity.\n",
    "    \n",
    "### <font color = '#044cb3'>Let's also be sure to consider these in terms of amateur and professional crafts."
   ]
  },
  {
   "cell_type": "code",
   "execution_count": 160,
   "metadata": {},
   "outputs": [],
   "source": [
    "total_amateur_serious = df_amateur[df_amateur['Injury.Severity'] == 'Fatal']['Event.Id'].count() + df_amateur[df_amateur['Injury.Severity'] == 'Serious']['Event.Id'].count()\n",
    "total_amateur_minor = df_amateur[df_amateur['Injury.Severity'] == 'Non-Fatal']['Event.Id'].count() + df_amateur[df_amateur['Injury.Severity'] == 'Minor']['Event.Id'].count()\n",
    "\n",
    "total_prof_serious = df_prof[df_prof['Injury.Severity'] == 'Fatal']['Event.Id'].count() + df_prof[df_prof['Injury.Severity'] == 'Serious']['Event.Id'].count()\n",
    "total_prof_minor = df_prof[df_prof['Injury.Severity'] == 'Non-Fatal']['Event.Id'].count() + df_prof[df_prof['Injury.Severity'] == 'Minor']['Event.Id'].count()"
   ]
  },
  {
   "cell_type": "code",
   "execution_count": 161,
   "metadata": {},
   "outputs": [
    {
     "name": "stdout",
     "output_type": "stream",
     "text": [
      "The percentage of serious amateur crashes is 5.36130801351705\n",
      "The percentage number of minor amateur crashes is 69.9678002935521\n",
      "The percentage number of serious professional crashes is 0.8226285428210584\n",
      "The percentage number of minor professional crashes is 6.901887608233112\n"
     ]
    }
   ],
   "source": [
    "percent_amateur_serious = (total_amateur_serious / df['Injury.Severity'].count()) * 100\n",
    "percent_amateur_minor = (total_amateur_minor / df['Injury.Severity'].count()) * 100\n",
    "\n",
    "percent_prof_serious = (total_prof_serious / df['Injury.Severity'].count()) * 100\n",
    "percent_prof_minor = (total_prof_minor / df['Injury.Severity'].count()) * 100\n",
    "\n",
    "print(f\"The percentage of serious amateur crashes is {percent_amateur_serious}\")\n",
    "print(f\"The percentage number of minor amateur crashes is {percent_amateur_minor}\")\n",
    "\n",
    "print(f\"The percentage number of serious professional crashes is {percent_prof_serious}\")\n",
    "print(f\"The percentage number of minor professional crashes is {percent_prof_minor}\")"
   ]
  },
  {
   "cell_type": "code",
   "execution_count": null,
   "metadata": {},
   "outputs": [],
   "source": [
    "df_amateur = df[df['Amateur.Built'] == 'No']\n",
    "\n",
    "df_prof = df[df['Amateur.Built'] == 'Yes']"
   ]
  }
 ],
 "metadata": {
  "kernelspec": {
   "display_name": "Python 3",
   "language": "python",
   "name": "python3"
  },
  "language_info": {
   "codemirror_mode": {
    "name": "ipython",
    "version": 3
   },
   "file_extension": ".py",
   "mimetype": "text/x-python",
   "name": "python",
   "nbconvert_exporter": "python",
   "pygments_lexer": "ipython3",
   "version": "3.8.5"
  }
 },
 "nbformat": 4,
 "nbformat_minor": 2
}
